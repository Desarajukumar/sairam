{
 "cells": [
  {
   "cell_type": "code",
   "execution_count": 2,
   "id": "a8a266bf-09bb-4aac-992d-789e61d9fa5f",
   "metadata": {},
   "outputs": [
    {
     "name": "stdout",
     "output_type": "stream",
     "text": [
      "<class 'str'> <class 'str'> <class 'str'>\n"
     ]
    }
   ],
   "source": [
    "a=\"pythonlife\"\n",
    "b=\"pythonlife\"\n",
    "c=\"pythonlife\"\n",
    "print(type(a),type(b),type(c))"
   ]
  },
  {
   "cell_type": "code",
   "execution_count": 4,
   "id": "b635703b-2ae1-4bb0-9ae5-0764523eb87c",
   "metadata": {},
   "outputs": [
    {
     "name": "stdout",
     "output_type": "stream",
     "text": [
      "PLEASE SUBSCRIBE\n"
     ]
    }
   ],
   "source": [
    "pythonlife =\"please subscribe\"\n",
    "print(pythonlife.upper())"
   ]
  },
  {
   "cell_type": "code",
   "execution_count": 5,
   "id": "ac2a7345-2f67-402f-9cb1-cc28781b58bd",
   "metadata": {},
   "outputs": [
    {
     "name": "stdout",
     "output_type": "stream",
     "text": [
      "please subscribe\n"
     ]
    }
   ],
   "source": [
    "pythonlife =\"please subscribe\"\n",
    "print(pythonlife.lower())"
   ]
  },
  {
   "cell_type": "code",
   "execution_count": 7,
   "id": "178bc33b-59e0-428e-b2c6-4d20c4f7d0d0",
   "metadata": {},
   "outputs": [
    {
     "name": "stdout",
     "output_type": "stream",
     "text": [
      "True\n"
     ]
    }
   ],
   "source": [
    "pythonlife =\"python language\"\n",
    "print(pythonlife.endswith(\"language\"))"
   ]
  },
  {
   "cell_type": "code",
   "execution_count": 8,
   "id": "9d611e15-d1c0-47bc-b13f-14d048d29e13",
   "metadata": {},
   "outputs": [
    {
     "name": "stdout",
     "output_type": "stream",
     "text": [
      "False\n"
     ]
    }
   ],
   "source": [
    "pyyhonlife= \"python language\"\n",
    "print(pythonlife.startswith(\"language\"))"
   ]
  },
  {
   "cell_type": "code",
   "execution_count": 20,
   "id": "2d76c74d-a959-4a21-8a6e-61d3409221d3",
   "metadata": {},
   "outputs": [
    {
     "name": "stdout",
     "output_type": "stream",
     "text": [
      "['accumulate', [1, 2, 3, 4]]\n"
     ]
    }
   ],
   "source": [
    "a=[1, 2 ,3, 4]\n",
    "acc_obj=\"accumulate\",(a)\n",
    "print(list(acc_obj))"
   ]
  },
  {
   "cell_type": "code",
   "execution_count": null,
   "id": "f23bd512-ccdb-46b5-878b-cd830958b140",
   "metadata": {},
   "outputs": [],
   "source": [
    "\n"
   ]
  },
  {
   "cell_type": "code",
   "execution_count": null,
   "id": "6d710f50-0b7d-40c3-b172-ab202aa24782",
   "metadata": {},
   "outputs": [],
   "source": []
  }
 ],
 "metadata": {
  "kernelspec": {
   "display_name": "Python 3 (ipykernel)",
   "language": "python",
   "name": "python3"
  },
  "language_info": {
   "codemirror_mode": {
    "name": "ipython",
    "version": 3
   },
   "file_extension": ".py",
   "mimetype": "text/x-python",
   "name": "python",
   "nbconvert_exporter": "python",
   "pygments_lexer": "ipython3",
   "version": "3.11.7"
  }
 },
 "nbformat": 4,
 "nbformat_minor": 5
}
